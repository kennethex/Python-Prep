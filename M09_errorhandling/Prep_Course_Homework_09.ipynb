{
 "cells": [
  {
   "attachments": {},
   "cell_type": "markdown",
   "metadata": {},
   "source": [
    "## Manejo de errores"
   ]
  },
  {
   "attachments": {},
   "cell_type": "markdown",
   "metadata": {},
   "source": [
    "1) Con la clase creada en el módulo 7, tener en cuenta diferentes casos en que el código pudiera arrojar error. Por ejemplo, en la creación del objeto recibimos una lista de números enteros pero ¿qué pasa si se envía otro tipo de dato?"
   ]
  },
  {
   "cell_type": "code",
   "execution_count": 2,
   "metadata": {},
   "outputs": [],
   "source": [
    "import sys\n",
    "sys.path.append(r\"C:/Users/kenne/OneDrive/Escritorio/Python-Prep/M08_clasesyOOP/herramientas.py\") \n",
    "\n",
    "#Agregar la ruta al archivo \"herramientas.py\" al sys.path"
   ]
  },
  {
   "cell_type": "code",
   "execution_count": 3,
   "metadata": {},
   "outputs": [],
   "source": [
    "import herramientas as h \n",
    "\n",
    "#Se importa el modulo llamado \"herramientas\" y se le asigna un alias \"h\" utilizando la palabra clave as"
   ]
  },
  {
   "cell_type": "code",
   "execution_count": 4,
   "metadata": {},
   "outputs": [
    {
     "ename": "ValueError",
     "evalue": "Se ha creado una lista vacía. Se esperaba una lista de núemeros enteros",
     "output_type": "error",
     "traceback": [
      "\u001b[1;31m---------------------------------------------------------------------------\u001b[0m",
      "\u001b[1;31mValueError\u001b[0m                                Traceback (most recent call last)",
      "Cell \u001b[1;32mIn[4], line 1\u001b[0m\n\u001b[1;32m----> 1\u001b[0m h1 \u001b[39m=\u001b[39m h\u001b[39m.\u001b[39;49mHerramientas(\u001b[39m\"\u001b[39;49m\u001b[39mHola\u001b[39;49m\u001b[39m\"\u001b[39;49m) \u001b[39m#si se envia un tipo de dato diferente al esperado, arroja error \u001b[39;00m\n",
      "File \u001b[1;32mc:\\Users\\kenne\\OneDrive\\Escritorio\\Python-Prep\\M09_errorhandling\\herramientas.py:5\u001b[0m, in \u001b[0;36mHerramientas.__init__\u001b[1;34m(self, lista_numeros)\u001b[0m\n\u001b[0;32m      3\u001b[0m \u001b[39mif\u001b[39;00m (\u001b[39mtype\u001b[39m(lista_numeros) \u001b[39m!=\u001b[39m \u001b[39mlist\u001b[39m):\n\u001b[0;32m      4\u001b[0m     \u001b[39mself\u001b[39m\u001b[39m.\u001b[39mlista \u001b[39m=\u001b[39m []\n\u001b[1;32m----> 5\u001b[0m     \u001b[39mraise\u001b[39;00m \u001b[39mValueError\u001b[39;00m(\u001b[39m'\u001b[39m\u001b[39mSe ha creado una lista vacía. Se esperaba una lista de núemeros enteros\u001b[39m\u001b[39m'\u001b[39m)  \n\u001b[0;32m      6\u001b[0m \u001b[39melse\u001b[39;00m:\n\u001b[0;32m      7\u001b[0m     \u001b[39mself\u001b[39m\u001b[39m.\u001b[39mlista \u001b[39m=\u001b[39m lista_numeros\n",
      "\u001b[1;31mValueError\u001b[0m: Se ha creado una lista vacía. Se esperaba una lista de núemeros enteros"
     ]
    }
   ],
   "source": [
    "h1 = h.Herramientas(\"Hola\") #si se envia un tipo de dato diferente al esperado, arroja error "
   ]
  },
  {
   "cell_type": "code",
   "execution_count": 5,
   "metadata": {},
   "outputs": [],
   "source": [
    "h1 = h.Herramientas([2,3,6,3,1,5,6])"
   ]
  },
  {
   "attachments": {},
   "cell_type": "markdown",
   "metadata": {},
   "source": [
    "2) En la función que hace la conversión de grados, validar que los parámetros enviados sean los esperados, de no serlo, informar cuáles son los valores esperados."
   ]
  },
  {
   "cell_type": "code",
   "execution_count": 6,
   "metadata": {},
   "outputs": [
    {
     "data": {
      "text/plain": [
       "<module 'herramientas' from 'c:\\\\Users\\\\kenne\\\\OneDrive\\\\Escritorio\\\\Python-Prep\\\\M09_errorhandling\\\\herramientas.py'>"
      ]
     },
     "execution_count": 6,
     "metadata": {},
     "output_type": "execute_result"
    }
   ],
   "source": [
    "import importlib #se importa el modulo importlib, el cual proporciona funciones para recargar (reload) modulos previamente importados.\n",
    "importlib.reload(h) #la funcion reload() de importlib recarga el modulo herramientas (previamente importado y asignado a un alias h)."
   ]
  },
  {
   "cell_type": "code",
   "execution_count": null,
   "metadata": {},
   "outputs": [],
   "source": [
    "h1 = h.Herramientas([2,5,6,1,4,6,])"
   ]
  },
  {
   "cell_type": "code",
   "execution_count": 7,
   "metadata": {},
   "outputs": [
    {
     "name": "stdout",
     "output_type": "stream",
     "text": [
      "Los parametros esperados son: ['celsius', 'kelvin', 'farenheit']\n"
     ]
    },
    {
     "data": {
      "text/plain": [
       "[]"
      ]
     },
     "execution_count": 7,
     "metadata": {},
     "output_type": "execute_result"
    }
   ],
   "source": [
    "h1.conversion_grados(1,2)"
   ]
  },
  {
   "cell_type": "code",
   "execution_count": 8,
   "metadata": {},
   "outputs": [
    {
     "data": {
      "text/plain": [
       "[35.6, 37.4, 42.8, 37.4, 33.8, 41.0, 42.8]"
      ]
     },
     "execution_count": 8,
     "metadata": {},
     "output_type": "execute_result"
    }
   ],
   "source": [
    "h1.conversion_grados(\"celsius\", \"farenheit\")"
   ]
  },
  {
   "attachments": {},
   "cell_type": "markdown",
   "metadata": {},
   "source": [
    "3) Importar el modulo \"unittest\" y crear los siguientes casos de pruebas sobre la clase utilizada en el punto 2<br>\n",
    "Creacion del objeto incorrecta<br>\n",
    "Creacion correcta del objeto<br>\n",
    "Metodo valor_modal()<br>\n",
    "\n",
    "Se puede usar \"raise ValueError()\" en la creación de la clase para verificar el error. Investigar sobre esta funcionalidad."
   ]
  },
  {
   "cell_type": "code",
   "execution_count": 1,
   "metadata": {},
   "outputs": [],
   "source": [
    "import unittest #se importa el modulo unittest, es un marco de trabajo integrado en Python para escribir y ejecutar pruebas unitarias."
   ]
  },
  {
   "cell_type": "code",
   "execution_count": 2,
   "metadata": {},
   "outputs": [],
   "source": [
    "class Probando_Mi_Clase(unittest.TestCase):\n",
    "\n",
    "    def test_crear_objeto1(self):\n",
    "        param = \"Hola\"\n",
    "        self.assertRaises(ValueError, h.Herramientas, param)\n",
    "        #self.failUnlessRaises(ValueError, h.Herramientas, param)\n",
    "\n",
    "    def test_crear_objeto2(self):\n",
    "        param = [1,2,2,4]\n",
    "        h1 = h.Herramientas(param)\n",
    "        self.assertEqual(h1.lista, param)\n",
    "\n",
    "    def test_valor_modal(self):\n",
    "        lista = [1,2,1,3]\n",
    "        h1 = h.Herramientas(lista)\n",
    "        moda, veces = h1.valor_modal(False)\n",
    "        moda = [moda]\n",
    "        moda.append(veces)\n",
    "        resultado = [1,2]\n",
    "        self.assertEqual(moda, resultado)"
   ]
  },
  {
   "cell_type": "code",
   "execution_count": 3,
   "metadata": {},
   "outputs": [],
   "source": [
    "# comentado paso a paso\n",
    "class ProbandoMiClase(unittest.TestCase):\n",
    "    \"\"\"\n",
    "    Clase de prueba para la clase Herramientas del módulo 'h'.\n",
    "    Esta clase hereda de unittest.TestCase, lo que la convierte en una clase de prueba.\n",
    "    \"\"\"\n",
    "\n",
    "    def test_crear_objeto1(self):\n",
    "        \"\"\"\n",
    "        Método de prueba para verificar el comportamiento al crear un objeto Herramientas con un parámetro inválido.\n",
    "        \"\"\"\n",
    "        param = 'hola'\n",
    "        self.assertRaises(ValueError, h.Herramientas, param)\n",
    "        # self.failUnlessRaises(ValueError, h.Herramientas, param)\n",
    "        # Se utiliza assertRaises para verificar que al crear un objeto Herramientas con un parámetro inválido\n",
    "        # se genere una excepción de tipo ValueError. Se espera que el código en el bloque de prueba genere esta excepción.\n",
    "        # Si no se genera la excepción, el caso de prueba falla.\n",
    "\n",
    "    def test_crear_objeto2(self):\n",
    "        \"\"\"\n",
    "        Método de prueba para verificar el comportamiento al crear un objeto Herramientas con una lista válida como parámetro.\n",
    "        \"\"\"\n",
    "        param = [1, 2, 2, 5]\n",
    "        h1 = h.Herramientas(param)\n",
    "        self.assertEqual(h1.lista, param)\n",
    "        # Se utiliza assertEqual para verificar que la lista almacenada en el objeto h1 de tipo Herramientas\n",
    "        # sea igual a la lista param proporcionada como parámetro al crear el objeto.\n",
    "        # Si las listas no son iguales, el caso de prueba falla.\n",
    "\n",
    "    def test_valor_modal(self):\n",
    "        \"\"\"\n",
    "        Método de prueba para verificar el comportamiento del método valor_modal de la clase Herramientas.\n",
    "        \"\"\"\n",
    "        lis = [1, 2, 1, 3]\n",
    "        h1 = h.Herramientas(lis)\n",
    "        moda, veces = h1.valor_modal(False)\n",
    "        moda = [moda]\n",
    "        moda.append(veces)\n",
    "        resultado = [1, 2]\n",
    "        self.assertEqual(moda, resultado)\n",
    "        # Se utiliza assertEqual para verificar que el valor de moda y la cantidad de repeticiones devueltos\n",
    "        # por el método valor_modal de la clase Herramientas sean iguales a los valores esperados almacenados en resultado.\n",
    "        # Si los valores no coinciden, el caso de prueba falla.\n"
   ]
  },
  {
   "cell_type": "code",
   "execution_count": 4,
   "metadata": {},
   "outputs": [
    {
     "name": "stderr",
     "output_type": "stream",
     "text": [
      "test_crear_objeto1 (__main__.ProbandoMiClase.test_crear_objeto1)\n",
      "Método de prueba para verificar el comportamiento al crear un objeto Herramientas con un parámetro inválido. ... ERROR\n",
      "test_crear_objeto2 (__main__.ProbandoMiClase.test_crear_objeto2)\n",
      "Método de prueba para verificar el comportamiento al crear un objeto Herramientas con una lista válida como parámetro. ... ERROR\n",
      "test_valor_modal (__main__.ProbandoMiClase.test_valor_modal)\n",
      "Método de prueba para verificar el comportamiento del método valor_modal de la clase Herramientas. ... ERROR\n",
      "test_crear_objeto1 (__main__.Probando_Mi_Clase.test_crear_objeto1) ... ERROR\n",
      "test_crear_objeto2 (__main__.Probando_Mi_Clase.test_crear_objeto2) ... ERROR\n",
      "test_valor_modal (__main__.Probando_Mi_Clase.test_valor_modal) ... ERROR\n",
      "\n",
      "======================================================================\n",
      "ERROR: test_crear_objeto1 (__main__.ProbandoMiClase.test_crear_objeto1)\n",
      "Método de prueba para verificar el comportamiento al crear un objeto Herramientas con un parámetro inválido.\n",
      "----------------------------------------------------------------------\n",
      "Traceback (most recent call last):\n",
      "  File \"C:\\Users\\kenne\\AppData\\Local\\Temp\\ipykernel_2056\\2902687768.py\", line 13, in test_crear_objeto1\n",
      "    self.assertRaises(ValueError, h.Herramientas, param)\n",
      "                                  ^\n",
      "NameError: name 'h' is not defined\n",
      "\n",
      "======================================================================\n",
      "ERROR: test_crear_objeto2 (__main__.ProbandoMiClase.test_crear_objeto2)\n",
      "Método de prueba para verificar el comportamiento al crear un objeto Herramientas con una lista válida como parámetro.\n",
      "----------------------------------------------------------------------\n",
      "Traceback (most recent call last):\n",
      "  File \"C:\\Users\\kenne\\AppData\\Local\\Temp\\ipykernel_2056\\2902687768.py\", line 24, in test_crear_objeto2\n",
      "    h1 = h.Herramientas(param)\n",
      "         ^\n",
      "NameError: name 'h' is not defined\n",
      "\n",
      "======================================================================\n",
      "ERROR: test_valor_modal (__main__.ProbandoMiClase.test_valor_modal)\n",
      "Método de prueba para verificar el comportamiento del método valor_modal de la clase Herramientas.\n",
      "----------------------------------------------------------------------\n",
      "Traceback (most recent call last):\n",
      "  File \"C:\\Users\\kenne\\AppData\\Local\\Temp\\ipykernel_2056\\2902687768.py\", line 35, in test_valor_modal\n",
      "    h1 = h.Herramientas(lis)\n",
      "         ^\n",
      "NameError: name 'h' is not defined\n",
      "\n",
      "======================================================================\n",
      "ERROR: test_crear_objeto1 (__main__.Probando_Mi_Clase.test_crear_objeto1)\n",
      "----------------------------------------------------------------------\n",
      "Traceback (most recent call last):\n",
      "  File \"C:\\Users\\kenne\\AppData\\Local\\Temp\\ipykernel_2056\\1699036324.py\", line 5, in test_crear_objeto1\n",
      "    self.assertRaises(ValueError, h.Herramientas, param)\n",
      "                                  ^\n",
      "NameError: name 'h' is not defined\n",
      "\n",
      "======================================================================\n",
      "ERROR: test_crear_objeto2 (__main__.Probando_Mi_Clase.test_crear_objeto2)\n",
      "----------------------------------------------------------------------\n",
      "Traceback (most recent call last):\n",
      "  File \"C:\\Users\\kenne\\AppData\\Local\\Temp\\ipykernel_2056\\1699036324.py\", line 10, in test_crear_objeto2\n",
      "    h1 = h.Herramientas(param)\n",
      "         ^\n",
      "NameError: name 'h' is not defined\n",
      "\n",
      "======================================================================\n",
      "ERROR: test_valor_modal (__main__.Probando_Mi_Clase.test_valor_modal)\n",
      "----------------------------------------------------------------------\n",
      "Traceback (most recent call last):\n",
      "  File \"C:\\Users\\kenne\\AppData\\Local\\Temp\\ipykernel_2056\\1699036324.py\", line 15, in test_valor_modal\n",
      "    h1 = h.Herramientas(lista)\n",
      "         ^\n",
      "NameError: name 'h' is not defined\n",
      "\n",
      "----------------------------------------------------------------------\n",
      "Ran 6 tests in 0.019s\n",
      "\n",
      "FAILED (errors=6)\n"
     ]
    },
    {
     "data": {
      "text/plain": [
       "<unittest.main.TestProgram at 0x1b79f0a1290>"
      ]
     },
     "execution_count": 4,
     "metadata": {},
     "output_type": "execute_result"
    }
   ],
   "source": [
    "unittest.main(argv=[\"\"], verbosity=2, exit=False)"
   ]
  },
  {
   "attachments": {},
   "cell_type": "markdown",
   "metadata": {},
   "source": [
    "4) Probar una creación incorrecta y visualizar la salida del \"raise\""
   ]
  },
  {
   "attachments": {},
   "cell_type": "markdown",
   "metadata": {},
   "source": [
    "6) Agregar casos de pruebas para el método verifica_primos() realizando el cambio en la clase, para que devuelva una lista de True o False en función de que el elemento en la posisicón sea o no primo"
   ]
  },
  {
   "cell_type": "code",
   "execution_count": null,
   "metadata": {},
   "outputs": [],
   "source": []
  },
  {
   "attachments": {},
   "cell_type": "markdown",
   "metadata": {},
   "source": [
    "7) Agregar casos de pruebas para el método conversion_grados()"
   ]
  },
  {
   "cell_type": "code",
   "execution_count": null,
   "metadata": {},
   "outputs": [],
   "source": []
  },
  {
   "attachments": {},
   "cell_type": "markdown",
   "metadata": {},
   "source": [
    "8) Agregar casos de pruebas para el método factorial()"
   ]
  },
  {
   "cell_type": "code",
   "execution_count": null,
   "metadata": {},
   "outputs": [],
   "source": []
  }
 ],
 "metadata": {
  "interpreter": {
   "hash": "c85384e4cb51c8b72350f3a8712cc8351fdc3955e32a27f9b60c6242ab125f01"
  },
  "kernelspec": {
   "display_name": "Python 3 (ipykernel)",
   "language": "python",
   "name": "python3"
  },
  "language_info": {
   "codemirror_mode": {
    "name": "ipython",
    "version": 3
   },
   "file_extension": ".py",
   "mimetype": "text/x-python",
   "name": "python",
   "nbconvert_exporter": "python",
   "pygments_lexer": "ipython3",
   "version": "3.11.2"
  }
 },
 "nbformat": 4,
 "nbformat_minor": 4
}
