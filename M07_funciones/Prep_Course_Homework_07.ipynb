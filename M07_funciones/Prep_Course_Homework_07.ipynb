{
 "cells": [
  {
   "attachments": {},
   "cell_type": "markdown",
   "metadata": {},
   "source": [
    "## Funciones"
   ]
  },
  {
   "attachments": {},
   "cell_type": "markdown",
   "metadata": {},
   "source": [
    "1) Crear una función que reciba un número como parámetro y devuelva True si es primo y False si no lo es"
   ]
  },
  {
   "cell_type": "code",
   "execution_count": 2,
   "metadata": {},
   "outputs": [],
   "source": [
    "def verifica_primo(num):\n",
    "\n",
    "    #variable para almacenar el resultado de la verificación de numero primo\n",
    "    es_primo = True\n",
    "\n",
    "    #iteracion sobre los numeros desde 2 hasta num-1\n",
    "    for i in range(2, num):\n",
    "\n",
    "        #verifica si num es divisible por i (no es primo)\n",
    "        if num % i == 0:\n",
    "\n",
    "            # Se marca la variable como False indicando que el número no es primo\n",
    "            es_primo = False\n",
    "\n",
    "            # Se rompe el bucle ya que no es necesario continuar la verificación\n",
    "            break\n",
    "\n",
    "    # Se devuelve el resultado de la verificación de número primo\n",
    "    return es_primo"
   ]
  },
  {
   "attachments": {},
   "cell_type": "markdown",
   "metadata": {},
   "source": [
    "2) Utilizando la función del punto 1, realizar otra función que reciba de parámetro una lista de números y devuelva sólo aquellos que son primos en otra lista"
   ]
  },
  {
   "cell_type": "code",
   "execution_count": 4,
   "metadata": {},
   "outputs": [],
   "source": [
    "def extrae_primos_de_lista(lista):\n",
    "\n",
    "    #se define una lista_primos vacia para almacenar los numeros primos extraidos\n",
    "    lista_primos = []\n",
    "\n",
    "    #iteracion sobre cada elemento de la lista\n",
    "    for i in lista:\n",
    "\n",
    "        #verifica si i es un numero primo\n",
    "        if verifica_primo(int(i)):\n",
    "\n",
    "            #si es primo, se agrega a la lista vacia lista_primos\n",
    "            lista_primos.append(i)\n",
    "    \n",
    "    #se devuelve la lista de numeros primos extraidos \n",
    "    return lista_primos"
   ]
  },
  {
   "cell_type": "code",
   "execution_count": 6,
   "metadata": {},
   "outputs": [
    {
     "name": "stdout",
     "output_type": "stream",
     "text": [
      "[1, 2, 3, 5, 7, 11, 13, 17, 19]\n"
     ]
    }
   ],
   "source": [
    "lis_completa = [1,2,3,4,5,6,7,8,9,10,11,12,13,14,15,16,17,18,19,20]\n",
    "lis_primos = extrae_primos_de_lista(lis_completa)\n",
    "print(lis_primos)"
   ]
  },
  {
   "attachments": {},
   "cell_type": "markdown",
   "metadata": {},
   "source": [
    "3) Crear una función que al recibir una lista de números, devuelva el que más se repite y cuántas veces lo hace. Si hay más de un \"más repetido\", que devuelva cualquiera"
   ]
  },
  {
   "cell_type": "code",
   "execution_count": 21,
   "metadata": {},
   "outputs": [],
   "source": [
    "def valor_modal(lista):\n",
    "\n",
    "    # Lista para almacenar los elementos únicos de la lista\n",
    "    lista_unicos = []\n",
    "\n",
    "    # Lista para almacenar las repeticiones de cada elemento único\n",
    "    lista_repetidos = []\n",
    "\n",
    "    # Verificación si la lista está vacía\n",
    "    if len(lista) == 0:\n",
    "\n",
    "         # Si la lista está vacía, se devuelve None\n",
    "        return None\n",
    "    \n",
    "    # Iteración sobre cada elemento de la lista\n",
    "    for elemento in lista:\n",
    "\n",
    "        # Verificación si el elemento ya está en la lista de únicos\n",
    "        if elemento in lista_unicos:\n",
    "\n",
    "            # Se obtiene el índice del elemento en la lista de únicos\n",
    "            i = lista_unicos.index(elemento)\n",
    "\n",
    "            # Se incrementa el contador de repeticiones para ese elemento\n",
    "            lista_repetidos[i] += 1\n",
    "\n",
    "        else:\n",
    "\n",
    "            # Si es un elemento único, se agrega a la lista de únicos\n",
    "            lista_unicos.append(elemento)\n",
    "\n",
    "             # Se inicializa el contador de repeticiones para ese elemento en 1\n",
    "            lista_repetidos.append(1)\n",
    "\n",
    "    # Se asume que el primer elemento de la lista de únicos es la moda inicialmente\n",
    "    moda = lista_unicos[0]\n",
    "\n",
    "    # Se asume que el primer contador de repeticiones es el máximo inicialmente\n",
    "    maximo = lista_repetidos[0]\n",
    "\n",
    "    # Iteración sobre cada elemento único y su índice\n",
    "    for i, elemento in enumerate(lista_unicos):\n",
    "\n",
    "        # Verificación si el contador de repeticiones es mayor al máximo actual\n",
    "        if lista_repetidos[i] > maximo:\n",
    "\n",
    "            # Se actualiza la moda con el nuevo elemento con más repeticiones\n",
    "            moda = lista_unicos[i]\n",
    "\n",
    "            # Se actualiza el máximo con el nuevo contador de repeticiones mayor\n",
    "            maximo = lista_repetidos[i]\n",
    "\n",
    "    # Se devuelve la moda y el máximo de repeticiones como una tupla\n",
    "    return moda, maximo"
   ]
  },
  {
   "cell_type": "code",
   "execution_count": 22,
   "metadata": {},
   "outputs": [],
   "source": [
    "lista = [1,1,5,6,8,10,22,5,6,4,11,9,5]"
   ]
  },
  {
   "cell_type": "code",
   "execution_count": 23,
   "metadata": {},
   "outputs": [
    {
     "data": {
      "text/plain": [
       "(5, 3)"
      ]
     },
     "execution_count": 23,
     "metadata": {},
     "output_type": "execute_result"
    }
   ],
   "source": [
    "valor_modal(lista)"
   ]
  },
  {
   "attachments": {},
   "cell_type": "markdown",
   "metadata": {},
   "source": [
    "4) A la función del punto 3, agregar un parámetro más, que permita elegir si se requiere el menor o el mayor de los mas repetidos."
   ]
  },
  {
   "cell_type": "code",
   "execution_count": 24,
   "metadata": {},
   "outputs": [],
   "source": [
    "'''\n",
    "Esta función devuelve el valor modal y recibe de parámetros dos valores:\n",
    "1-Una lista de números\n",
    "2-Verdadero (por defecto) por si se requiere el mínimo de los más repetidos, o Falso si se requiere el máximo\n",
    "'''\n",
    "def valor_modal(lista, menor=True):\n",
    "     # Lista para almacenar los elementos únicos de la lista\n",
    "    lista_unicos = []\n",
    "\n",
    "    # Lista para almacenar las repeticiones de cada elemento único\n",
    "    lista_repetidos = []\n",
    "\n",
    "    # Verificación si la lista está vacía\n",
    "    if len(lista) == 0:\n",
    "\n",
    "         # Si la lista está vacía, se devuelve None\n",
    "        return None\n",
    "    \n",
    "    #Verificacion del parametro menor\n",
    "    if menor:\n",
    "\n",
    "        #ordena la lista de forma ascendente si menor es verdadero\n",
    "        lista.sort()\n",
    "\n",
    "    else:\n",
    "\n",
    "        #ordena la lsta de forma descendente si menor es falso\n",
    "        lista.sort(reverse=True)\n",
    "\n",
    "    # Iteración sobre cada elemento de la lista\n",
    "    for elemento in lista:\n",
    "\n",
    "        # Verificación si el elemento ya está en la lista de únicos\n",
    "        if elemento in lista_unicos:\n",
    "\n",
    "            # Se obtiene el índice del elemento en la lista de únicos\n",
    "            i = lista_unicos.index(elemento)\n",
    "\n",
    "            # Se incrementa el contador de repeticiones para ese elemento\n",
    "            lista_repetidos[i] += 1\n",
    "\n",
    "        else:\n",
    "\n",
    "            # Si es un elemento único, se agrega a la lista de únicos\n",
    "            lista_unicos.append(elemento)\n",
    "\n",
    "             # Se inicializa el contador de repeticiones para ese elemento en 1\n",
    "            lista_repetidos.append(1)\n",
    "\n",
    "    # Se asume que el primer elemento de la lista de únicos es la moda inicialmente\n",
    "    moda = lista_unicos[0]\n",
    "\n",
    "    # Se asume que el primer contador de repeticiones es el máximo inicialmente\n",
    "    maximo = lista_repetidos[0]\n",
    "\n",
    "    # Iteración sobre cada elemento único y su índice\n",
    "    for i, elemento in enumerate(lista_unicos):\n",
    "\n",
    "        # Verificación si el contador de repeticiones es mayor al máximo actual\n",
    "        if lista_repetidos[i] > maximo:\n",
    "\n",
    "            # Se actualiza la moda con el nuevo elemento con más repeticiones\n",
    "            moda = lista_unicos[i]\n",
    "\n",
    "            # Se actualiza el máximo con el nuevo contador de repeticiones mayor\n",
    "            maximo = lista_repetidos[i]\n",
    "\n",
    "    # Se devuelve la moda y el máximo de repeticiones como una tupla\n",
    "    return moda, maximo"
   ]
  },
  {
   "cell_type": "code",
   "execution_count": 25,
   "metadata": {},
   "outputs": [
    {
     "name": "stdout",
     "output_type": "stream",
     "text": [
      "El valor modal es 5 y se repite 3 veces.\n"
     ]
    }
   ],
   "source": [
    "lista = [10,1,5,6,8,10,22,5,6,4,11,10,9,5]\n",
    "moda, repite = valor_modal(lista, True)\n",
    "print('El valor modal es', moda, 'y se repite', repite, 'veces.')"
   ]
  },
  {
   "attachments": {},
   "cell_type": "markdown",
   "metadata": {},
   "source": [
    "5) Crear una función que convierta entre grados Celsius, Farenheit y Kelvin<br>\n",
    "Fórmula 1\t: (°C × 9/5) + 32 = °F<br>\n",
    "Fórmula 2\t: °C + 273.15 = °K<br>\n",
    "Debe recibir 3 parámetros: el valor, la medida de orígen y la medida de destino\n"
   ]
  },
  {
   "cell_type": "code",
   "execution_count": 4,
   "metadata": {},
   "outputs": [],
   "source": [
    "# Función que realiza la conversión de grados entre diferentes unidades\n",
    "    # Parámetros:\n",
    "    # - valor: el valor numérico a convertir\n",
    "    # - origen: la unidad de origen (celsius, farenheit, kelvin)\n",
    "    # - destino: la unidad de destino (celsius, farenheit, kelvin)\n",
    "def conversion_grados(valor, origen, destino):\n",
    "    if (origen == \"celsius\"):\n",
    "        if (destino == \"celsius\"):\n",
    "            valor_destino = valor\n",
    "        elif (destino == \"farenheit\"):\n",
    "            valor_destino = (valor * 9/5) + 32\n",
    "        elif (destino == \"kelvin\"):\n",
    "            valor_destino = valor + 273.15\n",
    "        else:\n",
    "            print(\"Parametro de destino incorrecto.\")\n",
    "    elif (origen == \"farenheit\"):\n",
    "        if (destino == \"celsius\"):\n",
    "            valor_destino = (valor - 32) * 5 / 9\n",
    "        elif (destino == \"farenheit\"):\n",
    "            valor_destino = valor\n",
    "        elif (destino == \"kelvin\"):\n",
    "            valor_destino = ((valor - 32) * 5 / 9) + 273.15\n",
    "        else:\n",
    "            print(\"Parametro de destino incorrecto.\")\n",
    "    elif origen == \"kelvin\":\n",
    "        if (destino == \"celsius\"):\n",
    "            valor_destino = valor - 273.15\n",
    "        elif (destino == \"farenheit\"):\n",
    "            valor_destino = ((valor - 273.15) * 9 / 5) + 32 \n",
    "        elif (destino == \"kelvin\"):\n",
    "            valor_destino = valor\n",
    "        else:\n",
    "            print(\"Parametro de destino incorrecto.\")\n",
    "    else:\n",
    "        print(\"Parametro de origen incorrecto.\")\n",
    "    \n",
    "    return valor_destino\n"
   ]
  },
  {
   "cell_type": "code",
   "execution_count": 5,
   "metadata": {},
   "outputs": [
    {
     "name": "stdout",
     "output_type": "stream",
     "text": [
      "1 grado Celsius a Celsius: 1\n",
      "1 grado Celsius a Kelvin: 274.15\n",
      "1 grado Celsius a Farenheit: 33.8\n",
      "1 grado Kelvin a Celsius: -272.15\n",
      "1 grado Kelvin a Kelvin: 1\n",
      "1 grado Kelvin a Farenheit: -457.87\n",
      "1 grado Farenheit a Celsius: -17.22222222222222\n",
      "1 grado Farenheit a Kelvin: 255.92777777777775\n",
      "1 grado Farenheit a Farenheit: 1\n"
     ]
    }
   ],
   "source": [
    "print('1 grado Celsius a Celsius:', conversion_grados(1, 'celsius', 'celsius'))\n",
    "print('1 grado Celsius a Kelvin:', conversion_grados(1, 'celsius', 'kelvin'))\n",
    "print('1 grado Celsius a Farenheit:', conversion_grados(1, 'celsius', 'farenheit'))\n",
    "print('1 grado Kelvin a Celsius:', conversion_grados(1, 'kelvin', 'celsius'))\n",
    "print('1 grado Kelvin a Kelvin:', conversion_grados(1, 'kelvin', 'kelvin'))\n",
    "print('1 grado Kelvin a Farenheit:', conversion_grados(1, 'kelvin', 'farenheit'))\n",
    "print('1 grado Farenheit a Celsius:', conversion_grados(1, 'farenheit', 'celsius'))\n",
    "print('1 grado Farenheit a Kelvin:', conversion_grados(1, 'farenheit', 'kelvin'))\n",
    "print('1 grado Farenheit a Farenheit:', conversion_grados(1, 'farenheit', 'farenheit'))"
   ]
  },
  {
   "attachments": {},
   "cell_type": "markdown",
   "metadata": {},
   "source": [
    "6) Iterando una lista con los tres valores posibles de temperatura que recibe la función del punto 5, hacer un print para cada combinación de los mismos:"
   ]
  },
  {
   "cell_type": "code",
   "execution_count": 6,
   "metadata": {},
   "outputs": [
    {
     "name": "stdout",
     "output_type": "stream",
     "text": [
      "1 grado celsius a celsius : 1\n",
      "1 grado celsius a kelvin : 274.15\n",
      "1 grado celsius a farenheit : 33.8\n",
      "1 grado kelvin a celsius : -272.15\n",
      "1 grado kelvin a kelvin : 1\n",
      "1 grado kelvin a farenheit : -457.87\n",
      "1 grado farenheit a celsius : -17.22222222222222\n",
      "1 grado farenheit a kelvin : 255.92777777777775\n",
      "1 grado farenheit a farenheit : 1\n"
     ]
    }
   ],
   "source": [
    "#lista de las unidades metricas\n",
    "metricas = [\"celsius\", \"kelvin\", \"farenheit\"]\n",
    "\n",
    "#bucle exterior que itera sobre los indices de la lista de metricas\n",
    "for i in range(0, 3):\n",
    "\n",
    "     # Bucle interior que itera sobre los índices de la lista de metricas\n",
    "    for j in range(0, 3):\n",
    "\n",
    "        # Se imprime la conversión de 1 grado desde la unidad métrica en el índice i a la unidad métrica en el índice j\n",
    "        # utilizando la función de conversión_grados\n",
    "        print('1 grado', metricas[i], 'a', metricas[j], ':', conversion_grados(1, metricas[i], metricas[j]))\n"
   ]
  },
  {
   "attachments": {},
   "cell_type": "markdown",
   "metadata": {},
   "source": [
    "7) Armar una función que devuelva el factorial de un número. Tener en cuenta que el usuario puede equivocarse y enviar de parámetro un número no entero o negativo"
   ]
  },
  {
   "cell_type": "code",
   "execution_count": 7,
   "metadata": {},
   "outputs": [],
   "source": [
    "def factorial(num):\n",
    "\n",
    "    #verifica si el numero no es entero y devuelve un mensaje de error\n",
    "    if type(num) != int:\n",
    "        return \"El numero debe ser un entero\"\n",
    "    \n",
    "    #verifica si el numero es negativo y devuelve un mensaje de error \n",
    "    if num < 0:\n",
    "        return \"El numero debe ser positivo\"\n",
    "    \n",
    "    #caso base: si el numero es 0 o 1, el factorial es 1\n",
    "    if num <= 1:\n",
    "        return 1\n",
    "    \n",
    "    #recursion: calcula el factorial del numero multiplicandolo por el factorial del numero anterior \n",
    "    num = num * factorial(num - 1)\n",
    "    \n",
    "    return num"
   ]
  },
  {
   "cell_type": "code",
   "execution_count": 15,
   "metadata": {},
   "outputs": [
    {
     "name": "stdout",
     "output_type": "stream",
     "text": [
      "120\n",
      "El numero debe ser positivo\n",
      "El numero debe ser un entero\n",
      "El numero debe ser un entero\n",
      "1\n"
     ]
    }
   ],
   "source": [
    "print(factorial(5))\n",
    "print(factorial(-4))\n",
    "print(factorial(2.33))\n",
    "print(factorial(\"5\"))\n",
    "print(factorial(1))"
   ]
  }
 ],
 "metadata": {
  "interpreter": {
   "hash": "c85384e4cb51c8b72350f3a8712cc8351fdc3955e32a27f9b60c6242ab125f01"
  },
  "kernelspec": {
   "display_name": "Python 3 (ipykernel)",
   "language": "python",
   "name": "python3"
  },
  "language_info": {
   "codemirror_mode": {
    "name": "ipython",
    "version": 3
   },
   "file_extension": ".py",
   "mimetype": "text/x-python",
   "name": "python",
   "nbconvert_exporter": "python",
   "pygments_lexer": "ipython3",
   "version": "3.11.2"
  }
 },
 "nbformat": 4,
 "nbformat_minor": 4
}
