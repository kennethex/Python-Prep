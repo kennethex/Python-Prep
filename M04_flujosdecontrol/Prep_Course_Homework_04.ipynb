{
 "cells": [
  {
   "attachments": {},
   "cell_type": "markdown",
   "metadata": {},
   "source": [
    "## Flujos de Control"
   ]
  },
  {
   "attachments": {},
   "cell_type": "markdown",
   "metadata": {},
   "source": [
    "1) Crear una variable que contenga un elemento del conjunto de números enteros y luego imprimir por pantalla si es mayor o menor a cero"
   ]
  },
  {
   "cell_type": "code",
   "execution_count": 3,
   "metadata": {},
   "outputs": [
    {
     "name": "stdout",
     "output_type": "stream",
     "text": [
      "El valor -4 es menor a 0\n"
     ]
    }
   ],
   "source": [
    "valor = -4\n",
    "\n",
    "if valor > 0:\n",
    "    print(f\"El valor {valor} es mayor a 0\")\n",
    "elif valor < 0:\n",
    "    print(f\"El valor {valor} es menor a 0\")\n",
    "else:\n",
    "    print(f\"El valor {valor} es igual a 0\")"
   ]
  },
  {
   "attachments": {},
   "cell_type": "markdown",
   "metadata": {},
   "source": [
    "2) Crear dos variables y un condicional que informe si son del mismo tipo de dato"
   ]
  },
  {
   "cell_type": "code",
   "execution_count": 5,
   "metadata": {},
   "outputs": [
    {
     "name": "stdout",
     "output_type": "stream",
     "text": [
      "Son del mismo tipo de dato\n"
     ]
    }
   ],
   "source": [
    "var1 = 1\n",
    "var2 = 11\n",
    "\n",
    "if (type(var1) == type(var2)):\n",
    "    print(\"Son del mismo tipo de dato\")\n",
    "else:\n",
    "    print(\"No son del mismo tipo de dato\")"
   ]
  },
  {
   "attachments": {},
   "cell_type": "markdown",
   "metadata": {},
   "source": [
    "3) Para los valores enteros del 1 al 20, imprimir por pantalla si es par o impar"
   ]
  },
  {
   "cell_type": "code",
   "execution_count": 6,
   "metadata": {},
   "outputs": [
    {
     "name": "stdout",
     "output_type": "stream",
     "text": [
      "El número 1 es impar\n",
      "El número 2 es par\n",
      "El número 3 es impar\n",
      "El número 4 es par\n",
      "El número 5 es impar\n",
      "El número 6 es par\n",
      "El número 7 es impar\n",
      "El número 8 es par\n",
      "El número 9 es impar\n",
      "El número 10 es par\n",
      "El número 11 es impar\n",
      "El número 12 es par\n",
      "El número 13 es impar\n",
      "El número 14 es par\n",
      "El número 15 es impar\n",
      "El número 16 es par\n",
      "El número 17 es impar\n",
      "El número 18 es par\n",
      "El número 19 es impar\n",
      "El número 20 es par\n"
     ]
    }
   ],
   "source": [
    "for i in range(1, 21):\n",
    "    if (i % 2 == 0):\n",
    "        print(f\"El número {i} es par\")\n",
    "    else:\n",
    "        print(f\"El número {i} es impar\")\n",
    "        "
   ]
  },
  {
   "cell_type": "code",
   "execution_count": 7,
   "metadata": {},
   "outputs": [
    {
     "name": "stdout",
     "output_type": "stream",
     "text": [
      "El número 0 es par\n",
      "El número 1 es impar\n",
      "El número 2 es par\n",
      "El número 3 es impar\n",
      "El número 4 es par\n",
      "El número 5 es impar\n",
      "El número 6 es par\n",
      "El número 7 es impar\n",
      "El número 8 es par\n",
      "El número 9 es impar\n",
      "El número 10 es par\n",
      "El número 11 es impar\n",
      "El número 12 es par\n",
      "El número 13 es impar\n",
      "El número 14 es par\n",
      "El número 15 es impar\n",
      "El número 16 es par\n",
      "El número 17 es impar\n",
      "El número 18 es par\n",
      "El número 19 es impar\n",
      "El número 20 es par\n"
     ]
    }
   ],
   "source": [
    "i = 0\n",
    "while (i <= 20):\n",
    "    if i % 2 == 0:\n",
    "        print(f\"El número {i} es par\")\n",
    "    else:\n",
    "        print(f\"El número {i} es impar\")\n",
    "    i = i + 1"
   ]
  },
  {
   "attachments": {},
   "cell_type": "markdown",
   "metadata": {},
   "source": [
    "4) En un ciclo for mostrar para los valores entre 0 y 5 el resultado de elevarlo a la potencia igual a 3"
   ]
  },
  {
   "cell_type": "code",
   "execution_count": 8,
   "metadata": {},
   "outputs": [
    {
     "name": "stdout",
     "output_type": "stream",
     "text": [
      "El valor 0 elevado a la 3ra potencia es 0\n",
      "El valor 1 elevado a la 3ra potencia es 1\n",
      "El valor 2 elevado a la 3ra potencia es 8\n",
      "El valor 3 elevado a la 3ra potencia es 27\n",
      "El valor 4 elevado a la 3ra potencia es 64\n",
      "El valor 5 elevado a la 3ra potencia es 125\n"
     ]
    }
   ],
   "source": [
    "for i in range(0, 6):\n",
    "    print(\"El valor\", str(i), \"elevado a la 3ra potencia es\", str(i**3))"
   ]
  },
  {
   "attachments": {},
   "cell_type": "markdown",
   "metadata": {},
   "source": [
    "5) Crear una variable que contenga un número entero y realizar un ciclo for la misma cantidad de ciclos"
   ]
  },
  {
   "cell_type": "code",
   "execution_count": 9,
   "metadata": {},
   "outputs": [
    {
     "name": "stdout",
     "output_type": "stream",
     "text": [
      "Ciclo for numero 0\n",
      "Ciclo for numero 1\n",
      "Ciclo for numero 2\n",
      "Ciclo for numero 3\n",
      "Ciclo for numero 4\n",
      "Ciclo for numero 5\n"
     ]
    }
   ],
   "source": [
    "num = 6\n",
    "\n",
    "for i in range(0, num):\n",
    "    print(f\"Ciclo for numero {i}\")\n"
   ]
  },
  {
   "attachments": {},
   "cell_type": "markdown",
   "metadata": {},
   "source": [
    "6) Utilizar un ciclo while para realizar el factorial de un número guardado en una variable, sólo si la variable contiene un número entero mayor a 0"
   ]
  },
  {
   "cell_type": "code",
   "execution_count": 19,
   "metadata": {},
   "outputs": [
    {
     "name": "stdout",
     "output_type": "stream",
     "text": [
      "El factorial es  720\n"
     ]
    }
   ],
   "source": [
    "nro = 6\n",
    "\n",
    "if (type(nro) == int):\n",
    "    if (nro > 0):\n",
    "        factorial = nro\n",
    "        while (nro > 2):\n",
    "            nro = nro - 1\n",
    "            factorial = factorial * nro\n",
    "        print(\"El factorial es \", factorial)\n",
    "    else:\n",
    "        print(\"La variable es menor a 0\")\n",
    "else:\n",
    "    print(\"La variable no es un entero\")"
   ]
  },
  {
   "attachments": {},
   "cell_type": "markdown",
   "metadata": {},
   "source": [
    "7) Crear un ciclo for dentro de un ciclo while"
   ]
  },
  {
   "cell_type": "code",
   "execution_count": 3,
   "metadata": {},
   "outputs": [
    {
     "name": "stdout",
     "output_type": "stream",
     "text": [
      "Ciclo while número 1\n",
      "Ciclo for numero 1\n",
      "Ciclo while número 2\n",
      "Ciclo for numero 2\n",
      "Ciclo for numero 2\n",
      "Ciclo while número 3\n",
      "Ciclo for numero 3\n",
      "Ciclo for numero 3\n",
      "Ciclo for numero 3\n",
      "Ciclo while número 4\n",
      "Ciclo for numero 4\n",
      "Ciclo for numero 4\n",
      "Ciclo for numero 4\n",
      "Ciclo for numero 4\n"
     ]
    }
   ],
   "source": [
    "a = 1\n",
    "while (a <= 4):\n",
    "    print(f\"Ciclo while número {a}\")#Imprime el numero del ciclo while\n",
    "    for i in range(1, a+1):#Como la funcion range(a, b) genera una secuencia de numeros desde a hasta b-1. Para que el bucle for incluya el numero n, usamos range(1, n+1) en lugar de range(1, n).\n",
    "        print(f\"Ciclo for numero {a}\")#Imprime el numero del ciclo for\n",
    "    a += 1\n"
   ]
  },
  {
   "cell_type": "code",
   "execution_count": 6,
   "metadata": {},
   "outputs": [
    {
     "name": "stdout",
     "output_type": "stream",
     "text": [
      "Ciclo while número: 1\n",
      "Ciclo for número: 1\n",
      "Ciclo while número: 2\n",
      "Ciclo for número: 2\n",
      "Ciclo for número: 2\n",
      "Ciclo while número: 3\n",
      "Ciclo for número: 3\n",
      "Ciclo for número: 3\n",
      "Ciclo for número: 3\n",
      "Ciclo while número: 4\n",
      "Ciclo for número: 4\n",
      "Ciclo for número: 4\n",
      "Ciclo for número: 4\n",
      "Ciclo for número: 4\n"
     ]
    }
   ],
   "source": [
    "b = 1\n",
    "while b < 5:\n",
    "    print(f\"Ciclo while número: {b}\")\n",
    "    for i in range(1, b+1):\n",
    "        print(f\"Ciclo for número: {b}\")\n",
    "    b += 1"
   ]
  },
  {
   "attachments": {},
   "cell_type": "markdown",
   "metadata": {},
   "source": [
    "8) Crear un ciclo while dentro de un ciclo for"
   ]
  },
  {
   "cell_type": "code",
   "execution_count": null,
   "metadata": {},
   "outputs": [],
   "source": []
  },
  {
   "attachments": {},
   "cell_type": "markdown",
   "metadata": {},
   "source": [
    "9) Imprimir los números primos existentes entre 0 y 30"
   ]
  },
  {
   "cell_type": "code",
   "execution_count": null,
   "metadata": {},
   "outputs": [],
   "source": []
  },
  {
   "attachments": {},
   "cell_type": "markdown",
   "metadata": {},
   "source": [
    "10) ¿Se puede mejorar el proceso del punto 9? Utilizar las sentencias break y/ó continue para tal fin"
   ]
  },
  {
   "cell_type": "code",
   "execution_count": null,
   "metadata": {},
   "outputs": [],
   "source": []
  },
  {
   "attachments": {},
   "cell_type": "markdown",
   "metadata": {},
   "source": [
    "11) En los puntos 9 y 10, se diseño un código que encuentra números primos y además se lo optimizó. ¿Es posible saber en qué medida se optimizó?"
   ]
  },
  {
   "cell_type": "code",
   "execution_count": null,
   "metadata": {},
   "outputs": [],
   "source": []
  },
  {
   "attachments": {},
   "cell_type": "markdown",
   "metadata": {},
   "source": [
    "12) Si la cantidad de números que se evalúa es mayor a treinta, esa optimización crece?"
   ]
  },
  {
   "cell_type": "code",
   "execution_count": null,
   "metadata": {},
   "outputs": [],
   "source": []
  },
  {
   "attachments": {},
   "cell_type": "markdown",
   "metadata": {},
   "source": [
    "13) Aplicando continue, armar un ciclo while que solo imprima los valores divisibles por 12, dentro del rango de números de 100 a 300"
   ]
  },
  {
   "cell_type": "code",
   "execution_count": null,
   "metadata": {},
   "outputs": [],
   "source": []
  },
  {
   "attachments": {},
   "cell_type": "markdown",
   "metadata": {},
   "source": [
    "14) Utilizar la función **input()** que permite hacer ingresos por teclado, para encontrar números primos y dar la opción al usario de buscar el siguiente"
   ]
  },
  {
   "cell_type": "code",
   "execution_count": null,
   "metadata": {},
   "outputs": [],
   "source": []
  },
  {
   "attachments": {},
   "cell_type": "markdown",
   "metadata": {},
   "source": [
    "15) Crear un ciclo while que encuentre dentro del rango de 100 a 300 el primer número divisible por 3 y además múltiplo de 6"
   ]
  },
  {
   "cell_type": "code",
   "execution_count": null,
   "metadata": {},
   "outputs": [],
   "source": []
  }
 ],
 "metadata": {
  "interpreter": {
   "hash": "c85384e4cb51c8b72350f3a8712cc8351fdc3955e32a27f9b60c6242ab125f01"
  },
  "kernelspec": {
   "display_name": "Python 3 (ipykernel)",
   "language": "python",
   "name": "python3"
  },
  "language_info": {
   "codemirror_mode": {
    "name": "ipython",
    "version": 3
   },
   "file_extension": ".py",
   "mimetype": "text/x-python",
   "name": "python",
   "nbconvert_exporter": "python",
   "pygments_lexer": "ipython3",
   "version": "3.11.2"
  }
 },
 "nbformat": 4,
 "nbformat_minor": 4
}
